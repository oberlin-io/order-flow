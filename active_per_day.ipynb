{
  "nbformat": 4,
  "nbformat_minor": 0,
  "metadata": {
    "colab": {
      "name": "active-per-day.ipynb",
      "version": "0.3.2",
      "provenance": [],
      "collapsed_sections": [],
      "include_colab_link": true
    },
    "kernelspec": {
      "name": "python3",
      "display_name": "Python 3"
    }
  },
  "cells": [
    {
      "cell_type": "markdown",
      "metadata": {
        "id": "view-in-github",
        "colab_type": "text"
      },
      "source": [
        "<a href=\"https://colab.research.google.com/github/oberljn/order-flow/blob/master/active_per_day.ipynb\" target=\"_parent\"><img src=\"https://colab.research.google.com/assets/colab-badge.svg\" alt=\"Open In Colab\"/></a>"
      ]
    },
    {
      "metadata": {
        "id": "FWfM9KHEL8Ln",
        "colab_type": "code",
        "colab": {}
      },
      "cell_type": "code",
      "source": [
        "import pandas as pd"
      ],
      "execution_count": 0,
      "outputs": []
    },
    {
      "metadata": {
        "id": "McCBezdCL9z5",
        "colab_type": "code",
        "outputId": "40b5bb25-95f6-48ba-88ec-715a55203c82",
        "colab": {
          "base_uri": "https://localhost:8080/",
          "height": 352
        }
      },
      "cell_type": "code",
      "source": [
        "# Grab the example orders data from a published Google Sheet tab (File > Publish to the web ... > Comma-separated values (.csv))\n",
        "orders = pd.read_csv(\n",
        "    \"https://docs.google.com/spreadsheets/d/e/2PACX-1vSJqWQejvfq9iLypDVsUc6GLC8ZvJ8TCCTU9n0Nqq2ogxpbHEnsdIWOyJkTXY9K-l2gLeAJJyPJNRx0/pub?gid=0&single=true&output=csv\",\n",
        "    parse_dates=[\"Start\", \"End\"])\n",
        "\n",
        "# Data overview\n",
        "orders.info()\n",
        "orders.tail()\n"
      ],
      "execution_count": 0,
      "outputs": [
        {
          "output_type": "stream",
          "text": [
            "<class 'pandas.core.frame.DataFrame'>\n",
            "RangeIndex: 56 entries, 0 to 55\n",
            "Data columns (total 3 columns):\n",
            "Order    56 non-null object\n",
            "Start    56 non-null datetime64[ns]\n",
            "End      44 non-null datetime64[ns]\n",
            "dtypes: datetime64[ns](2), object(1)\n",
            "memory usage: 1.4+ KB\n"
          ],
          "name": "stdout"
        },
        {
          "output_type": "execute_result",
          "data": {
            "text/html": [
              "<div>\n",
              "<style scoped>\n",
              "    .dataframe tbody tr th:only-of-type {\n",
              "        vertical-align: middle;\n",
              "    }\n",
              "\n",
              "    .dataframe tbody tr th {\n",
              "        vertical-align: top;\n",
              "    }\n",
              "\n",
              "    .dataframe thead th {\n",
              "        text-align: right;\n",
              "    }\n",
              "</style>\n",
              "<table border=\"1\" class=\"dataframe\">\n",
              "  <thead>\n",
              "    <tr style=\"text-align: right;\">\n",
              "      <th></th>\n",
              "      <th>Order</th>\n",
              "      <th>Start</th>\n",
              "      <th>End</th>\n",
              "    </tr>\n",
              "  </thead>\n",
              "  <tbody>\n",
              "    <tr>\n",
              "      <th>51</th>\n",
              "      <td>Order 07</td>\n",
              "      <td>2019-01-23</td>\n",
              "      <td>NaT</td>\n",
              "    </tr>\n",
              "    <tr>\n",
              "      <th>52</th>\n",
              "      <td>Order 02</td>\n",
              "      <td>2019-01-24</td>\n",
              "      <td>NaT</td>\n",
              "    </tr>\n",
              "    <tr>\n",
              "      <th>53</th>\n",
              "      <td>Order 03</td>\n",
              "      <td>2019-01-24</td>\n",
              "      <td>NaT</td>\n",
              "    </tr>\n",
              "    <tr>\n",
              "      <th>54</th>\n",
              "      <td>Order 04</td>\n",
              "      <td>2019-01-24</td>\n",
              "      <td>NaT</td>\n",
              "    </tr>\n",
              "    <tr>\n",
              "      <th>55</th>\n",
              "      <td>Order 01</td>\n",
              "      <td>2019-01-25</td>\n",
              "      <td>NaT</td>\n",
              "    </tr>\n",
              "  </tbody>\n",
              "</table>\n",
              "</div>"
            ],
            "text/plain": [
              "       Order      Start End\n",
              "51  Order 07 2019-01-23 NaT\n",
              "52  Order 02 2019-01-24 NaT\n",
              "53  Order 03 2019-01-24 NaT\n",
              "54  Order 04 2019-01-24 NaT\n",
              "55  Order 01 2019-01-25 NaT"
            ]
          },
          "metadata": {
            "tags": []
          },
          "execution_count": 152
        }
      ]
    },
    {
      "metadata": {
        "id": "nvKgaBrNNZ8F",
        "colab_type": "code",
        "colab": {}
      },
      "cell_type": "code",
      "source": [
        ""
      ],
      "execution_count": 0,
      "outputs": []
    },
    {
      "metadata": {
        "id": "NBTDKPUEexU_",
        "colab_type": "code",
        "outputId": "dfbe4004-c8ee-451e-efce-b844b1eebed5",
        "colab": {
          "base_uri": "https://localhost:8080/",
          "height": 204
        }
      },
      "cell_type": "code",
      "source": [
        "# Build timeseries dataframe\n",
        "\n",
        "# Build Timeseries of dates\n",
        "timeseries_array = [orders.Start.min()]\n",
        "\n",
        "# Add one day to last entry in array\n",
        "while timeseries_array[-1] < orders.End.max():\n",
        "  timeseries_array.append( timeseries_array[-1] + pd.Timedelta(\"1 days\") )\n",
        "\n",
        "del timeseries_array[timeseries_array.index(max(timeseries_array))]\n",
        "  \n",
        "# Add orders count column\n",
        "order_count = []\n",
        "for i in timeseries_array:\n",
        "  order_count.append(None)\n",
        "\n",
        "timeseries = pd.DataFrame(data = {\"Date\": timeseries_array, \"Orders\": order_count})\n",
        "\n",
        "timeseries.head()"
      ],
      "execution_count": 0,
      "outputs": [
        {
          "output_type": "execute_result",
          "data": {
            "text/html": [
              "<div>\n",
              "<style scoped>\n",
              "    .dataframe tbody tr th:only-of-type {\n",
              "        vertical-align: middle;\n",
              "    }\n",
              "\n",
              "    .dataframe tbody tr th {\n",
              "        vertical-align: top;\n",
              "    }\n",
              "\n",
              "    .dataframe thead th {\n",
              "        text-align: right;\n",
              "    }\n",
              "</style>\n",
              "<table border=\"1\" class=\"dataframe\">\n",
              "  <thead>\n",
              "    <tr style=\"text-align: right;\">\n",
              "      <th></th>\n",
              "      <th>Date</th>\n",
              "      <th>Orders</th>\n",
              "    </tr>\n",
              "  </thead>\n",
              "  <tbody>\n",
              "    <tr>\n",
              "      <th>0</th>\n",
              "      <td>2018-12-05</td>\n",
              "      <td>None</td>\n",
              "    </tr>\n",
              "    <tr>\n",
              "      <th>1</th>\n",
              "      <td>2018-12-06</td>\n",
              "      <td>None</td>\n",
              "    </tr>\n",
              "    <tr>\n",
              "      <th>2</th>\n",
              "      <td>2018-12-07</td>\n",
              "      <td>None</td>\n",
              "    </tr>\n",
              "    <tr>\n",
              "      <th>3</th>\n",
              "      <td>2018-12-08</td>\n",
              "      <td>None</td>\n",
              "    </tr>\n",
              "    <tr>\n",
              "      <th>4</th>\n",
              "      <td>2018-12-09</td>\n",
              "      <td>None</td>\n",
              "    </tr>\n",
              "  </tbody>\n",
              "</table>\n",
              "</div>"
            ],
            "text/plain": [
              "        Date Orders\n",
              "0 2018-12-05   None\n",
              "1 2018-12-06   None\n",
              "2 2018-12-07   None\n",
              "3 2018-12-08   None\n",
              "4 2018-12-09   None"
            ]
          },
          "metadata": {
            "tags": []
          },
          "execution_count": 153
        }
      ]
    },
    {
      "metadata": {
        "id": "yd9U8fBNe8UY",
        "colab_type": "code",
        "outputId": "863d4ac4-c058-4d2c-d326-9ae6f08335d1",
        "colab": {
          "base_uri": "https://localhost:8080/",
          "height": 334
        }
      },
      "cell_type": "code",
      "source": [
        "# Count open orders per date in timeseries\n",
        "for index, row in timeseries.iterrows():\n",
        "   \n",
        "  count = 0\n",
        "  \n",
        "  for ind, r in orders.iterrows():\n",
        "    \n",
        "    cond_1 = r.Start <= row.Date  # Order started on or before date\n",
        "    cond_2 = r.End >= row.Date    # Order ended on or after date\n",
        "    cond_3 = r.End == pd.NaT      # Order does not have an end date (remains active)\n",
        "    \n",
        "    if cond_1 and (cond_2 or cond_3):\n",
        "      count += 1\n",
        "\n",
        "  timeseries.at[index, \"Orders\"] = count\n",
        "  \n",
        "timeseries.info()\n",
        "timeseries.head()"
      ],
      "execution_count": 0,
      "outputs": [
        {
          "output_type": "stream",
          "text": [
            "<class 'pandas.core.frame.DataFrame'>\n",
            "RangeIndex: 52 entries, 0 to 51\n",
            "Data columns (total 2 columns):\n",
            "Date      52 non-null datetime64[ns]\n",
            "Orders    52 non-null object\n",
            "dtypes: datetime64[ns](1), object(1)\n",
            "memory usage: 912.0+ bytes\n"
          ],
          "name": "stdout"
        },
        {
          "output_type": "execute_result",
          "data": {
            "text/html": [
              "<div>\n",
              "<style scoped>\n",
              "    .dataframe tbody tr th:only-of-type {\n",
              "        vertical-align: middle;\n",
              "    }\n",
              "\n",
              "    .dataframe tbody tr th {\n",
              "        vertical-align: top;\n",
              "    }\n",
              "\n",
              "    .dataframe thead th {\n",
              "        text-align: right;\n",
              "    }\n",
              "</style>\n",
              "<table border=\"1\" class=\"dataframe\">\n",
              "  <thead>\n",
              "    <tr style=\"text-align: right;\">\n",
              "      <th></th>\n",
              "      <th>Date</th>\n",
              "      <th>Orders</th>\n",
              "    </tr>\n",
              "  </thead>\n",
              "  <tbody>\n",
              "    <tr>\n",
              "      <th>0</th>\n",
              "      <td>2018-12-05</td>\n",
              "      <td>1</td>\n",
              "    </tr>\n",
              "    <tr>\n",
              "      <th>1</th>\n",
              "      <td>2018-12-06</td>\n",
              "      <td>1</td>\n",
              "    </tr>\n",
              "    <tr>\n",
              "      <th>2</th>\n",
              "      <td>2018-12-07</td>\n",
              "      <td>6</td>\n",
              "    </tr>\n",
              "    <tr>\n",
              "      <th>3</th>\n",
              "      <td>2018-12-08</td>\n",
              "      <td>6</td>\n",
              "    </tr>\n",
              "    <tr>\n",
              "      <th>4</th>\n",
              "      <td>2018-12-09</td>\n",
              "      <td>6</td>\n",
              "    </tr>\n",
              "  </tbody>\n",
              "</table>\n",
              "</div>"
            ],
            "text/plain": [
              "        Date Orders\n",
              "0 2018-12-05      1\n",
              "1 2018-12-06      1\n",
              "2 2018-12-07      6\n",
              "3 2018-12-08      6\n",
              "4 2018-12-09      6"
            ]
          },
          "metadata": {
            "tags": []
          },
          "execution_count": 154
        }
      ]
    },
    {
      "metadata": {
        "id": "rg-aLnL4e8qm",
        "colab_type": "code",
        "colab": {}
      },
      "cell_type": "code",
      "source": [
        "# Add an SMA to timeseries\n",
        "# Plot\n"
      ],
      "execution_count": 0,
      "outputs": []
    }
  ]
}